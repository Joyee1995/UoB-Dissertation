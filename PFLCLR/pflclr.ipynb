{
 "cells": [
  {
   "cell_type": "markdown",
   "id": "f079e527-53ac-49da-93ea-d2f70a67713b",
   "metadata": {},
   "source": [
    "# Environment"
   ]
  },
  {
   "cell_type": "code",
   "execution_count": 1,
   "id": "1e0c41e8-c9be-4b0d-b577-47ab73806168",
   "metadata": {
    "tags": []
   },
   "outputs": [],
   "source": [
    "!pip3 install decord==0.6.0\n",
    "!pip3 install ftfy==6.1.1\n",
    "!pip3 install timm==0.9.2\n",
    "!pip3 install pytorch-lightning==2.0.2\n",
    "!pip3 install einops==0.6.1\n",
    "!pip3 install ipdb==0.13.13\n",
    "!pip3 install demoji==1.1.0\n",
    "!pip3 install sacred==0.8.4\n",
    "!pip3 install editdistance==0.6.2\n",
    "!pip3 install tslearn==0.5.3.2\n",
    "!pip3 install attrs==23.1.0\n",
    "!pip3 install ffmpeg==1.4\n",
    "!pip3 install transformers==4.29.2\n",
    "!pip3 install importlib-metadata==6.6.0\n",
    "!pip3 install pytorchvideo==0.1.5\n",
    "!pip3 install torchmetrics\n",
    "!pip3 install openpyxl==3.1.2"
   ]
  },
  {
   "cell_type": "code",
   "execution_count": null,
   "id": "f5a55acb-f70e-407a-a3ba-cdfcfbbbc475",
   "metadata": {
    "execution": {
     "iopub.execute_input": "2023-08-01T22:52:25.864118Z",
     "iopub.status.busy": "2023-08-01T22:52:25.863866Z",
     "iopub.status.idle": "2023-08-01T22:52:25.867380Z",
     "shell.execute_reply": "2023-08-01T22:52:25.866869Z",
     "shell.execute_reply.started": "2023-08-01T22:52:25.864099Z"
    }
   },
   "outputs": [],
   "source": [
    "!python3 Train/train.py with 'name=\"medclip_016_000030_cosine\"' \\\n",
    "'loss=\"infoNCE\"' 'device=\"cuda\"' \\\n",
    "'image_dir=\"/notebooks/R2Gen_Clip/data/iu_xray/images/\"' \\\n",
    "'ann_path=\"/notebooks/R2Gen_Clip/data/iu_xray/annotation.json\"' \\\n",
    "'clip_path=\"/notebooks/R2Gen_Clip/pretrain_weights/ViT-B-32.pt\"' \\\n",
    "'medclip_path=\"/notebooks/R2Gen_Clip/pretrain_weights/medclip-vit/pytorch_model.bin\"' \\\n",
    "'wandb_log=True' \\\n",
    "'wandb_api_key_fp=\"/notebooks/R2Gen_Clip/wandb_api_key.txt\"' \\\n",
    "'visual_extractor=\"medclip\"' \\\n",
    "'batch_size=16' 'max_epochs=100' \\\n",
    "'lr=0.000030' 'decay_power=\"cosine\"' \\\n",
    "'warmup_steps=6000' >> /notebooks/temp.log\n",
    "\n",
    "\n"
   ]
  }
 ],
 "metadata": {
  "kernelspec": {
   "display_name": "Python 3 (ipykernel)",
   "language": "python",
   "name": "python3"
  },
  "language_info": {
   "codemirror_mode": {
    "name": "ipython",
    "version": 3
   },
   "file_extension": ".py",
   "mimetype": "text/x-python",
   "name": "python",
   "nbconvert_exporter": "python",
   "pygments_lexer": "ipython3",
   "version": "3.9.16"
  }
 },
 "nbformat": 4,
 "nbformat_minor": 5
}
